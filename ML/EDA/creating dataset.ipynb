{
 "cells": [
  {
   "attachments": {},
   "cell_type": "markdown",
   "metadata": {},
   "source": [
    "COMBINING MATCHES AND DELIVERIES TO CALCULATE ODDS PREDICTOR"
   ]
  },
  {
   "cell_type": "code",
   "execution_count": 12,
   "metadata": {},
   "outputs": [],
   "source": [
    "import numpy as np\n",
    "import pandas as pd\n",
    "import seaborn as sns\n",
    "import matplotlib.pyplot as plt\n",
    "%matplotlib inline"
   ]
  },
  {
   "cell_type": "code",
   "execution_count": 15,
   "metadata": {},
   "outputs": [],
   "source": [
    "deliveries = pd.read_csv(\"../Data/deliveries_cleaned.csv\")\n",
    "matches = pd.read_csv(\"../Data/matches_cleaned.csv\")"
   ]
  },
  {
   "cell_type": "code",
   "execution_count": 16,
   "metadata": {},
   "outputs": [],
   "source": [
    "deliveries[\"match_no\"] = deliveries[\"match_no\"].apply(lambda x: float(x))"
   ]
  },
  {
   "cell_type": "code",
   "execution_count": 17,
   "metadata": {},
   "outputs": [],
   "source": [
    "df = pd.merge(deliveries, matches, how = \"inner\", on = \"match_no\")"
   ]
  },
  {
   "cell_type": "code",
   "execution_count": 18,
   "metadata": {},
   "outputs": [
    {
     "name": "stdout",
     "output_type": "stream",
     "text": [
      "<class 'pandas.core.frame.DataFrame'>\n",
      "Int64Index: 225792 entries, 0 to 225791\n",
      "Data columns (total 22 columns):\n",
      " #   Column          Non-Null Count   Dtype  \n",
      "---  ------          --------------   -----  \n",
      " 0   batsman         225792 non-null  object \n",
      " 1   bowler          225792 non-null  object \n",
      " 2   over            225792 non-null  int64  \n",
      " 3   ball            225792 non-null  int64  \n",
      " 4   total_runs      225792 non-null  int64  \n",
      " 5   batsman_runs    225792 non-null  int64  \n",
      " 6   extras          225792 non-null  int64  \n",
      " 7   match_no        225792 non-null  float64\n",
      " 8   is_wicket       225792 non-null  float64\n",
      " 9   dismissal_type  11122 non-null   object \n",
      " 10  fielder         8036 non-null    object \n",
      " 11  innings         225792 non-null  int64  \n",
      " 12  date            225792 non-null  object \n",
      " 13  city            225792 non-null  object \n",
      " 14  team1           225792 non-null  object \n",
      " 15  team2           225792 non-null  object \n",
      " 16  toss            225792 non-null  object \n",
      " 17  decision        225792 non-null  object \n",
      " 18  venue           225792 non-null  object \n",
      " 19  result          225792 non-null  float64\n",
      " 20  winner          225792 non-null  object \n",
      " 21  mom             225420 non-null  object \n",
      "dtypes: float64(3), int64(6), object(13)\n",
      "memory usage: 39.6+ MB\n"
     ]
    }
   ],
   "source": [
    "df.info()"
   ]
  },
  {
   "cell_type": "code",
   "execution_count": null,
   "metadata": {},
   "outputs": [],
   "source": []
  }
 ],
 "metadata": {
  "kernelspec": {
   "display_name": "Python 3",
   "language": "python",
   "name": "python3"
  },
  "language_info": {
   "codemirror_mode": {
    "name": "ipython",
    "version": 3
   },
   "file_extension": ".py",
   "mimetype": "text/x-python",
   "name": "python",
   "nbconvert_exporter": "python",
   "pygments_lexer": "ipython3",
   "version": "3.10.0 (tags/v3.10.0:b494f59, Oct  4 2021, 19:00:18) [MSC v.1929 64 bit (AMD64)]"
  },
  "orig_nbformat": 4,
  "vscode": {
   "interpreter": {
    "hash": "369f2c481f4da34e4445cda3fffd2e751bd1c4d706f27375911949ba6bb62e1c"
   }
  }
 },
 "nbformat": 4,
 "nbformat_minor": 2
}
