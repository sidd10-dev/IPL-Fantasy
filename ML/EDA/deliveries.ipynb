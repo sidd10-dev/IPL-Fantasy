{
 "cells": [
  {
   "attachments": {},
   "cell_type": "markdown",
   "metadata": {},
   "source": [
    "Exploring and Cleaning Deliveries"
   ]
  },
  {
   "cell_type": "code",
   "execution_count": 18,
   "metadata": {},
   "outputs": [],
   "source": [
    "import pandas as pd\n",
    "import numpy as np\n",
    "import matplotlib.pyplot as plt\n",
    "import seaborn as sns\n",
    "%matplotlib inline"
   ]
  },
  {
   "cell_type": "code",
   "execution_count": 19,
   "metadata": {},
   "outputs": [],
   "source": [
    "df = pd.read_csv(\"../Data/IPL_Ball_by_Ball_2008_2022.csv\")"
   ]
  },
  {
   "cell_type": "code",
   "execution_count": 20,
   "metadata": {},
   "outputs": [
    {
     "data": {
      "text/plain": [
       "(225954, 17)"
      ]
     },
     "execution_count": 20,
     "metadata": {},
     "output_type": "execute_result"
    }
   ],
   "source": [
    "df.shape"
   ]
  },
  {
   "cell_type": "code",
   "execution_count": 21,
   "metadata": {},
   "outputs": [
    {
     "data": {
      "text/plain": [
       "Index(['ID', 'innings', 'overs', 'ballnumber', 'batter', 'bowler',\n",
       "       'non-striker', 'extra_type', 'batsman_run', 'extras_run', 'total_run',\n",
       "       'non_boundary', 'isWicketDelivery', 'player_out', 'kind',\n",
       "       'fielders_involved', 'BattingTeam'],\n",
       "      dtype='object')"
      ]
     },
     "execution_count": 21,
     "metadata": {},
     "output_type": "execute_result"
    }
   ],
   "source": [
    "df.columns"
   ]
  },
  {
   "cell_type": "code",
   "execution_count": 22,
   "metadata": {},
   "outputs": [
    {
     "name": "stdout",
     "output_type": "stream",
     "text": [
      "<class 'pandas.core.frame.DataFrame'>\n",
      "RangeIndex: 225954 entries, 0 to 225953\n",
      "Data columns (total 17 columns):\n",
      " #   Column             Non-Null Count   Dtype \n",
      "---  ------             --------------   ----- \n",
      " 0   ID                 225954 non-null  int64 \n",
      " 1   innings            225954 non-null  int64 \n",
      " 2   overs              225954 non-null  int64 \n",
      " 3   ballnumber         225954 non-null  int64 \n",
      " 4   batter             225954 non-null  object\n",
      " 5   bowler             225954 non-null  object\n",
      " 6   non-striker        225954 non-null  object\n",
      " 7   extra_type         12049 non-null   object\n",
      " 8   batsman_run        225954 non-null  int64 \n",
      " 9   extras_run         225954 non-null  int64 \n",
      " 10  total_run          225954 non-null  int64 \n",
      " 11  non_boundary       225954 non-null  int64 \n",
      " 12  isWicketDelivery   225954 non-null  int64 \n",
      " 13  player_out         11151 non-null   object\n",
      " 14  kind               11151 non-null   object\n",
      " 15  fielders_involved  7988 non-null    object\n",
      " 16  BattingTeam        225954 non-null  object\n",
      "dtypes: int64(9), object(8)\n",
      "memory usage: 29.3+ MB\n"
     ]
    }
   ],
   "source": [
    "df.info()"
   ]
  },
  {
   "attachments": {},
   "cell_type": "markdown",
   "metadata": {},
   "source": [
    "dismissal_Type and fielder have null values"
   ]
  },
  {
   "cell_type": "code",
   "execution_count": 23,
   "metadata": {},
   "outputs": [
    {
     "data": {
      "text/html": [
       "<div>\n",
       "<style scoped>\n",
       "    .dataframe tbody tr th:only-of-type {\n",
       "        vertical-align: middle;\n",
       "    }\n",
       "\n",
       "    .dataframe tbody tr th {\n",
       "        vertical-align: top;\n",
       "    }\n",
       "\n",
       "    .dataframe thead th {\n",
       "        text-align: right;\n",
       "    }\n",
       "</style>\n",
       "<table border=\"1\" class=\"dataframe\">\n",
       "  <thead>\n",
       "    <tr style=\"text-align: right;\">\n",
       "      <th></th>\n",
       "      <th>ID</th>\n",
       "      <th>innings</th>\n",
       "      <th>overs</th>\n",
       "      <th>ballnumber</th>\n",
       "      <th>batsman_run</th>\n",
       "      <th>extras_run</th>\n",
       "      <th>total_run</th>\n",
       "      <th>non_boundary</th>\n",
       "      <th>isWicketDelivery</th>\n",
       "    </tr>\n",
       "  </thead>\n",
       "  <tbody>\n",
       "    <tr>\n",
       "      <th>count</th>\n",
       "      <td>2.259540e+05</td>\n",
       "      <td>225954.000000</td>\n",
       "      <td>225954.000000</td>\n",
       "      <td>225954.000000</td>\n",
       "      <td>225954.000000</td>\n",
       "      <td>225954.000000</td>\n",
       "      <td>225954.00000</td>\n",
       "      <td>225954.000000</td>\n",
       "      <td>225954.000000</td>\n",
       "    </tr>\n",
       "    <tr>\n",
       "      <th>mean</th>\n",
       "      <td>8.320470e+05</td>\n",
       "      <td>1.483868</td>\n",
       "      <td>9.185679</td>\n",
       "      <td>3.619750</td>\n",
       "      <td>1.243523</td>\n",
       "      <td>0.066907</td>\n",
       "      <td>1.31043</td>\n",
       "      <td>0.000093</td>\n",
       "      <td>0.049351</td>\n",
       "    </tr>\n",
       "    <tr>\n",
       "      <th>std</th>\n",
       "      <td>3.379542e+05</td>\n",
       "      <td>0.503104</td>\n",
       "      <td>5.681797</td>\n",
       "      <td>1.810633</td>\n",
       "      <td>1.618166</td>\n",
       "      <td>0.341470</td>\n",
       "      <td>1.60605</td>\n",
       "      <td>0.009640</td>\n",
       "      <td>0.216600</td>\n",
       "    </tr>\n",
       "    <tr>\n",
       "      <th>min</th>\n",
       "      <td>3.359820e+05</td>\n",
       "      <td>1.000000</td>\n",
       "      <td>0.000000</td>\n",
       "      <td>1.000000</td>\n",
       "      <td>0.000000</td>\n",
       "      <td>0.000000</td>\n",
       "      <td>0.00000</td>\n",
       "      <td>0.000000</td>\n",
       "      <td>0.000000</td>\n",
       "    </tr>\n",
       "    <tr>\n",
       "      <th>25%</th>\n",
       "      <td>5.012620e+05</td>\n",
       "      <td>1.000000</td>\n",
       "      <td>4.000000</td>\n",
       "      <td>2.000000</td>\n",
       "      <td>0.000000</td>\n",
       "      <td>0.000000</td>\n",
       "      <td>0.00000</td>\n",
       "      <td>0.000000</td>\n",
       "      <td>0.000000</td>\n",
       "    </tr>\n",
       "    <tr>\n",
       "      <th>50%</th>\n",
       "      <td>8.297370e+05</td>\n",
       "      <td>1.000000</td>\n",
       "      <td>9.000000</td>\n",
       "      <td>4.000000</td>\n",
       "      <td>1.000000</td>\n",
       "      <td>0.000000</td>\n",
       "      <td>1.00000</td>\n",
       "      <td>0.000000</td>\n",
       "      <td>0.000000</td>\n",
       "    </tr>\n",
       "    <tr>\n",
       "      <th>75%</th>\n",
       "      <td>1.178395e+06</td>\n",
       "      <td>2.000000</td>\n",
       "      <td>14.000000</td>\n",
       "      <td>5.000000</td>\n",
       "      <td>1.000000</td>\n",
       "      <td>0.000000</td>\n",
       "      <td>1.00000</td>\n",
       "      <td>0.000000</td>\n",
       "      <td>0.000000</td>\n",
       "    </tr>\n",
       "    <tr>\n",
       "      <th>max</th>\n",
       "      <td>1.312200e+06</td>\n",
       "      <td>6.000000</td>\n",
       "      <td>19.000000</td>\n",
       "      <td>10.000000</td>\n",
       "      <td>6.000000</td>\n",
       "      <td>7.000000</td>\n",
       "      <td>7.00000</td>\n",
       "      <td>1.000000</td>\n",
       "      <td>1.000000</td>\n",
       "    </tr>\n",
       "  </tbody>\n",
       "</table>\n",
       "</div>"
      ],
      "text/plain": [
       "                 ID        innings          overs     ballnumber  \\\n",
       "count  2.259540e+05  225954.000000  225954.000000  225954.000000   \n",
       "mean   8.320470e+05       1.483868       9.185679       3.619750   \n",
       "std    3.379542e+05       0.503104       5.681797       1.810633   \n",
       "min    3.359820e+05       1.000000       0.000000       1.000000   \n",
       "25%    5.012620e+05       1.000000       4.000000       2.000000   \n",
       "50%    8.297370e+05       1.000000       9.000000       4.000000   \n",
       "75%    1.178395e+06       2.000000      14.000000       5.000000   \n",
       "max    1.312200e+06       6.000000      19.000000      10.000000   \n",
       "\n",
       "         batsman_run     extras_run     total_run   non_boundary  \\\n",
       "count  225954.000000  225954.000000  225954.00000  225954.000000   \n",
       "mean        1.243523       0.066907       1.31043       0.000093   \n",
       "std         1.618166       0.341470       1.60605       0.009640   \n",
       "min         0.000000       0.000000       0.00000       0.000000   \n",
       "25%         0.000000       0.000000       0.00000       0.000000   \n",
       "50%         1.000000       0.000000       1.00000       0.000000   \n",
       "75%         1.000000       0.000000       1.00000       0.000000   \n",
       "max         6.000000       7.000000       7.00000       1.000000   \n",
       "\n",
       "       isWicketDelivery  \n",
       "count     225954.000000  \n",
       "mean           0.049351  \n",
       "std            0.216600  \n",
       "min            0.000000  \n",
       "25%            0.000000  \n",
       "50%            0.000000  \n",
       "75%            0.000000  \n",
       "max            1.000000  "
      ]
     },
     "execution_count": 23,
     "metadata": {},
     "output_type": "execute_result"
    }
   ],
   "source": [
    "df.describe()"
   ]
  },
  {
   "cell_type": "code",
   "execution_count": 24,
   "metadata": {},
   "outputs": [
    {
     "data": {
      "text/plain": [
       "Index(['ID', 'innings', 'overs', 'ballnumber', 'batter', 'bowler',\n",
       "       'non-striker', 'extra_type', 'batsman_run', 'extras_run', 'total_run',\n",
       "       'non_boundary', 'isWicketDelivery', 'player_out', 'kind',\n",
       "       'fielders_involved', 'BattingTeam'],\n",
       "      dtype='object')"
      ]
     },
     "execution_count": 24,
     "metadata": {},
     "output_type": "execute_result"
    }
   ],
   "source": [
    "df.columns"
   ]
  },
  {
   "cell_type": "code",
   "execution_count": 25,
   "metadata": {},
   "outputs": [
    {
     "data": {
      "text/plain": [
       "array([nan, 'caught', 'caught and bowled', 'run out', 'bowled', 'stumped',\n",
       "       'lbw', 'hit wicket', 'retired hurt', 'retired out',\n",
       "       'obstructing the field'], dtype=object)"
      ]
     },
     "execution_count": 25,
     "metadata": {},
     "output_type": "execute_result"
    }
   ],
   "source": [
    "df[\"kind\"].unique()"
   ]
  },
  {
   "cell_type": "code",
   "execution_count": 26,
   "metadata": {},
   "outputs": [],
   "source": [
    "df.loc[df[\"kind\"] == \"runout\", \"dismissal_type\"] = \"run out\""
   ]
  },
  {
   "cell_type": "code",
   "execution_count": 27,
   "metadata": {},
   "outputs": [],
   "source": [
    "df.loc[(df[\"kind\"] == \"retired hurt\") | (df[\"kind\"] == \"retired out\"), \"kind\"] = \"retired\""
   ]
  },
  {
   "cell_type": "code",
   "execution_count": 28,
   "metadata": {},
   "outputs": [
    {
     "data": {
      "text/plain": [
       "array([nan, 'caught', 'caught and bowled', 'run out', 'bowled', 'stumped',\n",
       "       'lbw', 'hit wicket', 'retired', 'obstructing the field'],\n",
       "      dtype=object)"
      ]
     },
     "execution_count": 28,
     "metadata": {},
     "output_type": "execute_result"
    }
   ],
   "source": [
    "df[\"kind\"].unique()"
   ]
  },
  {
   "cell_type": "code",
   "execution_count": 31,
   "metadata": {},
   "outputs": [
    {
     "data": {
      "text/plain": [
       "array(['YBK Jaiswal', 'JC Buttler', 'SV Samson', 'D Padikkal',\n",
       "       'SO Hetmyer', 'R Ashwin', 'R Parag', 'TA Boult', 'OC McCoy',\n",
       "       'WP Saha', 'Shubman Gill', 'MS Wade', 'HH Pandya', 'DA Miller',\n",
       "       'V Kohli', 'F du Plessis', 'RM Patidar', 'GJ Maxwell', 'MK Lomror',\n",
       "       'KD Karthik', 'Shahbaz Ahmed', 'PWH de Silva', 'HV Patel',\n",
       "       'JR Hazlewood', 'Q de Kock', 'KL Rahul', 'M Vohra', 'DJ Hooda',\n",
       "       'MP Stoinis', 'E Lewis', 'KH Pandya', 'PVD Chameera', 'PK Garg',\n",
       "       'Abhishek Sharma', 'RA Tripathi', 'AK Markram', 'N Pooran',\n",
       "       'Washington Sundar', 'R Shepherd', 'J Suchith', 'B Kumar',\n",
       "       'Umran Malik', 'JM Bairstow', 'S Dhawan', 'M Shahrukh Khan',\n",
       "       'MA Agarwal', 'LS Livingstone', 'JM Sharma', 'PN Mankad',\n",
       "       'PP Shaw', 'DA Warner', 'MR Marsh', 'RR Pant', 'SN Khan',\n",
       "       'R Powell', 'AR Patel', 'SN Thakur', 'Kuldeep Yadav',\n",
       "       'Ishan Kishan', 'RG Sharma', 'D Brevis', 'Tilak Varma', 'TH David',\n",
       "       'Ramandeep Singh', 'DR Sams', 'RD Gaikwad', 'DP Conway', 'MM Ali',\n",
       "       'N Jagadeesan', 'AT Rayudu', 'MS Dhoni', 'Simarjeet Singh',\n",
       "       'MJ Santner', 'R Tewatia', 'Rashid Khan', 'VR Iyer', 'N Rana',\n",
       "       'A Tomar', 'SS Iyer', 'SW Billings', 'AD Russell', 'RK Singh',\n",
       "       'SP Narine', 'UT Yadav', 'KS Williamson', 'T Stubbs',\n",
       "       'R Sanjay Yadav', 'JJ Bumrah', 'Lalit Yadav', 'PBB Rajapaksa',\n",
       "       'Harpreet Brar', 'R Dhawan', 'RD Chahar', 'K Rabada',\n",
       "       'Arshdeep Singh', 'JDS Neesham', 'A Badoni', 'JO Holder',\n",
       "       'Mohsin Khan', 'Avesh Khan', 'S Dube', 'AM Rahane',\n",
       "       'Shashank Singh', 'M Jansen', 'Mohammed Siraj', 'RV Uthappa',\n",
       "       'DJ Bravo', 'M Theekshana', 'Mukesh Choudhary', 'HR Shokeen',\n",
       "       'HE van der Dussen', 'KS Bharat', 'KS Sharma', 'SP Jackson',\n",
       "       'PJ Cummins', 'TG Southee', 'KA Pollard', 'M Ashwin',\n",
       "       'K Kartikeya', 'RP Meredith', 'RV Patel', 'A Nortje', 'KK Ahmed',\n",
       "       'Kartik Tyagi', 'Fazalhaq Farooqi', 'B Indrajith', 'AJ Finch',\n",
       "       'AS Roy', 'Shivam Mavi', 'Harshit Rana', 'SA Yadav',\n",
       "       'B Sai Sudharsan', 'Mandeep Singh', 'SA Abbott', 'S Gopal',\n",
       "       'RA Jadeja', 'D Pretorius', 'PJ Sangwan', 'LH Ferguson',\n",
       "       'AS Joseph', 'KK Nair', 'DJ Mitchell', 'A Manohar',\n",
       "       'M Prasidh Krishna', 'SS Prabhudessai', 'MK Pandey', 'JD Unadkat',\n",
       "       'Anuj Rawat', 'Yash Dayal', 'NT Ellis', 'VG Arora', 'Ravi Bishnoi',\n",
       "       'CV Varun', 'V Shankar', 'P Simran Singh', 'OF Smith', 'FA Allen',\n",
       "       'TS Mills', 'Aman Hakim Khan', 'YS Chahal', 'KR Sen', 'Akash Deep',\n",
       "       'K Gowtham', 'Rasikh Salam', 'CJ Jordan', 'DJ Willey',\n",
       "       'SE Rutherford', 'Abdul Samad', 'TL Seifert', 'Mustafizur Rahman',\n",
       "       'Navdeep Saini', 'Anmolpreet Singh', 'RA Bawa', 'NM Coulter-Nile',\n",
       "       'EJG Morgan', 'Shakib Al Hasan', 'AB de Villiers', 'DT Christian',\n",
       "       'TK Curran', 'SK Raina', 'SS Tiwary', 'J Yadav', 'SPD Smith',\n",
       "       'CH Morris', 'C Sakariya', 'JJ Roy', 'S Kaul', 'KA Jamieson',\n",
       "       'AF Milne', 'CH Gayle', 'KM Jadhav', 'GD Phillips',\n",
       "       'Sandeep Sharma', 'SM Curran', 'DL Chahar', 'T Shamsi',\n",
       "       'GHS Garton', 'MC Henriques', 'K Yadav', 'PP Chawla',\n",
       "       'Mohammad Nabi', 'Sachin Baby', 'DJ Malan', 'Mohammed Shami',\n",
       "       'Virat Singh', 'KL Nagarkoti', 'Harbhajan Singh',\n",
       "       'Mujeeb Ur Rahman', 'JA Richardson', 'CR Woakes', 'S Nadeem',\n",
       "       'BA Stokes', 'CA Lynn', 'SP Goswami', 'Gurkeerat Singh',\n",
       "       'AT Carey', 'JC Archer', 'SS Cottrell', 'T Banton', 'M Vijay',\n",
       "       'SR Watson', 'P Dubey', 'JR Philippe', 'T Natarajan', 'I Udana',\n",
       "       'VR Aaron', 'TU Deshpande', 'Imran Tahir', 'AS Rajpoot',\n",
       "       'DW Steyn', 'NS Naik', 'AJ Tye', 'JL Pattinson', 'DS Kulkarni',\n",
       "       'MJ McClenaghan', 'C Munro', 'KMA Paul', 'A Mishra', 'I Sharma',\n",
       "       'MJ Guptill', 'Basil Thampi', 'YK Pathan', 'PA Patel',\n",
       "       'C de Grandhomme', 'STR Binny', 'IS Sodhi', 'CA Ingram',\n",
       "       'H Klaasen', 'P Negi', 'BB Sran', 'AJ Turner', 'DR Shorey',\n",
       "       'CR Brathwaite', 'AD Nath', 'GC Viljoen', 'Y Prithvi Raj',\n",
       "       'KC Cariappa', 'BCJ Cutting', 'RK Bhui', 'JL Denly', 'SD Lad',\n",
       "       'HF Gurney', 'Yuvraj Singh', 'MM Sharma', 'GH Vihari',\n",
       "       'S Lamichhane', 'P Ray Barman', 'M Markande',\n",
       "       'JPR Scantlebury-Searles', 'MK Tiwary', 'AD Hales',\n",
       "       'Anureet Singh', 'DJM Short', 'P Chopra', 'JP Duminy', 'NV Ojha',\n",
       "       'BB McCullum', 'LE Plunkett', 'MG Johnson', 'CJ Anderson',\n",
       "       'G Gambhir', 'B Laughlin', 'A Dananjaya', 'B Stanlake',\n",
       "       'R Vinay Kumar', 'MA Wood', 'LMP Simmons', 'KV Sharma', 'IR Jaggi',\n",
       "       'Bipul Sharma', 'SL Malinga', 'Vishnu Vinod', 'TM Head',\n",
       "       'MN Samuels', 'Z Khan', 'SE Marsh', 'Swapnil Singh', 'DR Smith',\n",
       "       'JP Faulkner', 'Ankit Soni', 'P Kumar', 'MM Patel', 'HM Amla',\n",
       "       'S Aravind', 'S Badree', 'A Choudhary', 'IK Pathan', 'AR Bawne',\n",
       "       'DM Bravo', 'AP Tare', 'AD Mathews', 'Ankit Sharma', 'R Bhatia',\n",
       "       'A Zampa', 'AB Dinda', 'Iqbal Abdulla', 'ER Dwivedi', 'R Sathish',\n",
       "       'SB Jakati', 'F Behardien', 'KJ Abbott', 'UT Khawaja', 'GJ Bailey',\n",
       "       'NLTC Perera', 'M Morkel', 'PV Tambe', 'S Kaushik', 'UBT Chand',\n",
       "       'A Nehra', 'PSP Handscomb', 'A Ashish Reddy', 'Parvez Rasool',\n",
       "       'JA Morkel', 'KP Pietersen', 'KW Richardson', 'P Sahu', 'D Wiese',\n",
       "       'MEK Hussey', 'MA Starc', 'Azhar Mahmood', 'BE Hendricks',\n",
       "       'RS Bopara', 'J Botha', 'GB Hogg', 'Karanveer Singh',\n",
       "       'RN ten Doeschate', 'NJ Maddinson', 'V Sehwag', 'J Theron',\n",
       "       'DJ Muthuswami', 'MS Bisla', 'RR Rossouw', 'AN Ahmed', 'RG More',\n",
       "       'DJG Sammy', 'CM Gautam', 'DJ Hussey', 'PP Ojha', 'BJ Hodge',\n",
       "       'Y Venugopal Rao', 'S Anirudha', 'YV Takawale', 'VH Zol', 'S Rana',\n",
       "       'KK Cooper', 'VS Malik', 'M de Lange', 'Shivam Sharma',\n",
       "       'WD Parnell', 'LRPL Taylor', 'R Shukla', 'DH Yagnik', 'M Manhas',\n",
       "       'LR Shukla', 'L Balaji', 'JH Kallis', 'BR Dunk', 'CA Pujara',\n",
       "       'R Rampaul', 'AM Nayar', 'S Badrinath', 'R Dravid', 'CL White',\n",
       "       'BB Samantray', 'P Dogra', 'LJ Wright', 'RV Gomez',\n",
       "       'DPMD Jayawardene', 'B Chipli', 'BJ Rohrer', 'AC Gilchrist',\n",
       "       'SK Trivedi', 'RE van der Merwe', 'DB Das', 'SMSM Senanayake',\n",
       "       'SR Tendulkar', 'MC Juneja', 'AB Agarkar', 'LA Pomersbach',\n",
       "       'A Mithun', 'M Kartik', 'Harmeet Singh', 'P Awana', 'UA Birla',\n",
       "       'M Rawat', 'K Upadhyay', 'MS Gony', 'KC Sangakkara', 'R McLaren',\n",
       "       'PA Reddy', 'BMAJ Mendis', 'OA Shah', 'TL Suman', 'BAW Mendis',\n",
       "       'R Sharma', 'S Narwal', 'B Lee', 'A Mukund', 'TM Dilshan',\n",
       "       'KB Arun Karthik', 'J Syed Mohammad', 'X Thalaivan Sargunam',\n",
       "       'AG Murtaza', 'IC Pandey', 'A Chandila', 'S Sreesanth', 'SW Tait',\n",
       "       'PC Valthaty', 'AD Mascarenhas', 'RT Ponting', 'AB McDonald',\n",
       "       'RJ Harris', 'DB Ravi Teja', 'MDKJ Perera', 'AL Menaria',\n",
       "       'Sunny Gupta', 'JEC Franklin', 'RP Singh', 'M Muralitharan',\n",
       "       'P Parameswaran', 'JD Ryder', 'MJ Clarke', 'SC Ganguly',\n",
       "       'AP Majumdar', 'CJ Ferguson', 'Harpreet Singh', 'SD Chitnis',\n",
       "       'N Saini', 'HH Gibbs', 'Y Nagar', 'MD Mishra', 'AC Thomas',\n",
       "       'DJ Harris', 'AA Jhunjhunwala', 'AUK Pathan', 'RJ Peterson',\n",
       "       'AA Chavan', 'V Pratap Singh', 'RE Levi', 'DL Vettori',\n",
       "       'KMDN Kulasekara', 'AC Blizzard', 'DJ Jacobs', 'CJ McKay',\n",
       "       'M Kaif', 'BA Bhatt', 'RR Bhatkal', 'A Singh', 'DAJ Bracewell',\n",
       "       'DE Bollinger', 'Y Gnaneswara Rao', 'JJ van der Wath',\n",
       "       'CK Langeveldt', 'S Sohal', 'FY Fazal', 'PR Shah', 'JDP Oram',\n",
       "       'SK Warne', 'ND Doshi', 'S Sriram', 'JR Hopes', 'TR Birt',\n",
       "       'MJ Lumb', 'A Symonds', 'MV Boucher', 'AS Raut', 'SJ Srivastava',\n",
       "       'M Klinger', 'RR Powar', 'Sunny Singh', 'L Ablish', 'I Malhotra',\n",
       "       'GC Smith', 'SB Wagh', 'NL McCullum', 'B Akhil', 'TD Paine',\n",
       "       'JE Taylor', 'VVS Laxman', 'BJ Haddin', 'Joginder Sharma',\n",
       "       'S Randiv', 'SA Asnodkar', 'AG Paunikar', 'R Ninan',\n",
       "       'NJ Rimmington', 'SB Styris', 'ML Hayden', 'CRD Fernando',\n",
       "       'Anirudh Singh', 'B Sumanth', 'A Kumble', 'WPUJC Vaas',\n",
       "       'PD Collingwood', 'AC Voges', 'Pankaj Singh', 'C Madan',\n",
       "       'KP Appanna', 'ST Jayasuriya', 'AP Dole', 'MF Maharoof',\n",
       "       'AB Barath', 'T Thushara', 'RS Sodhi', 'AA Bilakhia',\n",
       "       'Jaskaran Singh', 'K Goel', 'KAJ Roach', 'S Ladda', 'DP Nannes',\n",
       "       'JM Kemp', 'DR Martyn', 'RS Gavaskar', 'SE Bond', 'A Uniyal',\n",
       "       'S Tyagi', 'YA Abdulla', 'Mohammad Ashraful', 'SM Katich',\n",
       "       'WA Mota', 'RJ Quiney', 'NK Patel', 'T Henderson', 'Yashpal Singh',\n",
       "       'SS Shaikh', 'Mashrafe Mortaza', 'C Nanda', 'Shoaib Ahmed',\n",
       "       'AN Ghosh', 'LA Carseldine', 'MN van Wyk', 'SM Harwood',\n",
       "       'L Ronchi', 'RR Raje', 'W Jaffer', 'D du Preez', 'R Bishnoi',\n",
       "       'TM Srivastava', 'GR Napier', 'FH Edwards', 'SB Bangar',\n",
       "       'A Flintoff', 'T Kohli', 'A Chopra', 'Kamran Khan', 'S Vidyut',\n",
       "       'CK Kapugedera', 'Kamran Akmal', 'Sohail Tanvir', 'Mohammad Asif',\n",
       "       'VY Mahesh', 'GD McGrath', 'AS Yadav', 'Shahid Afridi',\n",
       "       'SP Fleming', 'SM Pollock', 'Salman Butt', 'Umar Gul',\n",
       "       'Misbah-ul-Haq', 'LPC Silva', 'M Ntini', 'VS Yeligati',\n",
       "       'Mohammad Hafeez', 'DJ Thornely', 'H Das', 'DNT Zoysa',\n",
       "       'J Arunkumar', 'DT Patil', 'Abdur Razzak', 'Shoaib Malik',\n",
       "       'Shoaib Akhtar', 'PM Sarvesh Kumar', 'DP Vijaykumar',\n",
       "       'Younis Khan', 'D Salunkhe', 'T Taibu', 'RR Sarwan', 'VRV Singh',\n",
       "       'U Kaul', 'S Chanderpaul', 'D Kalyankrishna', 'MA Khote',\n",
       "       'SB Joshi', 'DS Lehmann', 'AA Noffke'], dtype=object)"
      ]
     },
     "execution_count": 31,
     "metadata": {},
     "output_type": "execute_result"
    }
   ],
   "source": [
    "df['batter'].unique()"
   ]
  },
  {
   "cell_type": "code",
   "execution_count": 32,
   "metadata": {},
   "outputs": [
    {
     "data": {
      "text/plain": [
       "array(['Mohammed Shami', 'Yash Dayal', 'LH Ferguson', 'Rashid Khan',\n",
       "       'HH Pandya', 'R Sai Kishore', 'TA Boult', 'M Prasidh Krishna',\n",
       "       'YS Chahal', 'OC McCoy', 'R Ashwin', 'Mohammed Siraj',\n",
       "       'JR Hazlewood', 'GJ Maxwell', 'Shahbaz Ahmed', 'HV Patel',\n",
       "       'PWH de Silva', 'Mohsin Khan', 'PVD Chameera', 'KH Pandya',\n",
       "       'Avesh Khan', 'Ravi Bishnoi', 'AS Joseph', 'LS Livingstone',\n",
       "       'Arshdeep Singh', 'K Rabada', 'NT Ellis', 'Harpreet Brar',\n",
       "       'B Kumar', 'Washington Sundar', 'Fazalhaq Farooqi', 'J Suchith',\n",
       "       'Umran Malik', 'R Shepherd', 'DR Sams', 'HR Shokeen', 'JJ Bumrah',\n",
       "       'M Markande', 'RP Meredith', 'Ramandeep Singh', 'KK Ahmed',\n",
       "       'A Nortje', 'SN Thakur', 'MR Marsh', 'Kuldeep Yadav', 'AR Patel',\n",
       "       'Mukesh Choudhary', 'Simarjeet Singh', 'MJ Santner', 'M Pathirana',\n",
       "       'MM Ali', 'PH Solanki', 'S Kaul', 'MK Lomror', 'UT Yadav',\n",
       "       'TG Southee', 'SP Narine', 'CV Varun', 'AD Russell', 'N Rana',\n",
       "       'JO Holder', 'K Gowtham', 'MP Stoinis', 'R Sanjay Yadav',\n",
       "       'T Natarajan', 'Abhishek Sharma', 'R Dhawan', 'RD Chahar',\n",
       "       'Lalit Yadav', 'A Badoni', 'M Jansen', 'K Kartikeya', 'DJ Bravo',\n",
       "       'M Theekshana', 'C Sakariya', 'KR Sen', 'M Ashwin', 'KA Pollard',\n",
       "       'PJ Cummins', 'VR Iyer', 'Kartik Tyagi', 'Shivam Mavi', 'AS Roy',\n",
       "       'Harshit Rana', 'Sandeep Sharma', 'PJ Sangwan', 'R Tewatia',\n",
       "       'SA Abbott', 'S Gopal', 'AK Markram', 'RA Jadeja', 'D Pretorius',\n",
       "       'Shashank Singh', 'Mustafizur Rahman', 'DJ Mitchell', 'SS Iyer',\n",
       "       'JD Unadkat', 'R Parag', 'VG Arora', 'CJ Jordan', 'OF Smith',\n",
       "       'Tilak Varma', 'TS Mills', 'FA Allen', 'Aman Hakim Khan',\n",
       "       'JDS Neesham', 'V Shankar', 'Basil Thampi', 'Akash Deep',\n",
       "       'DG Nalkande', 'Rasikh Salam', 'R Powell', 'DJ Willey', 'D Brevis',\n",
       "       'AJ Tye', 'Navdeep Saini', 'YBK Jaiswal', 'Abdul Samad',\n",
       "       'VR Aaron', 'DJ Hooda', 'TU Deshpande', 'S Dube',\n",
       "       'NM Coulter-Nile', 'KL Nagarkoti', 'AF Milne', 'Shakib Al Hasan',\n",
       "       'DL Chahar', 'GHS Garton', 'DT Christian', 'TK Curran', 'J Yadav',\n",
       "       'IC Porel', 'AU Rashid', 'CH Morris', 'KA Jamieson', 'GD Phillips',\n",
       "       'RV Patel', 'SM Curran', 'T Shamsi', 'RG Sharma', 'MC Henriques',\n",
       "       'K Yadav', 'S Sandeep Warrier', 'Akash Singh', 'KM Asif',\n",
       "       'Mohammad Nabi', 'PP Chawla', 'I Sharma', 'DS Kulkarni', 'L Ngidi',\n",
       "       'A Mishra', 'Imran Tahir', 'KW Richardson', 'CR Woakes',\n",
       "       'LI Meriwala', 'Jalaj S Saxena', 'JA Richardson',\n",
       "       'Harbhajan Singh', 'Mujeeb Ur Rahman', 'S Nadeem', 'BA Stokes',\n",
       "       'P Dubey', 'A Zampa', 'JL Pattinson', 'I Udana', 'Monu Kumar',\n",
       "       'JC Archer', 'SS Cottrell', 'AS Rajpoot', 'KS Williamson',\n",
       "       'KV Sharma', 'DW Steyn', 'CJ Green', 'DA Warner', 'CH Gayle',\n",
       "       'MM Sharma', 'MJ McClenaghan', 'SL Malinga', 'KMA Paul',\n",
       "       'SE Rutherford', 'HF Gurney', 'K Khejroliya', 'C de Grandhomme',\n",
       "       'O Thomas', 'IS Sodhi', 'STR Binny', 'BB Sran', 'S Lamichhane',\n",
       "       'CR Brathwaite', 'Y Prithvi Raj', 'GC Viljoen', 'P Negi',\n",
       "       'KC Cariappa', 'Mandeep Singh', 'JP Behrendorff', 'SN Khan',\n",
       "       'SC Kuggeleijn', 'S Midhun', 'YK Pathan', 'GH Vihari',\n",
       "       'P Ray Barman', 'BCJ Cutting', 'SK Raina', 'B Laughlin',\n",
       "       'JPR Scantlebury-Searles', 'LE Plunkett', 'Anureet Singh',\n",
       "       'SR Watson', 'CJ Dala', 'Ankit Sharma', 'MG Johnson', 'JP Duminy',\n",
       "       'MK Tiwary', 'CJ Anderson', 'B Stanlake', 'Yuvraj Singh',\n",
       "       'DJM Short', 'A Dananjaya', 'R Vinay Kumar', 'MA Wood',\n",
       "       'Bipul Sharma', 'Z Khan', 'TM Head', 'Swapnil Singh', 'P Kumar',\n",
       "       'JP Faulkner', 'MM Patel', 'Ankit Soni', 'MN Samuels', 'MJ Henry',\n",
       "       'DR Smith', 'A Choudhary', 'S Badree', 'S Aravind', 'A Nehra',\n",
       "       'IK Pathan', 'NB Singh', 'RA Tripathi', 'SS Agarwal', 'AD Mathews',\n",
       "       'S Kaushik', 'SB Jakati', 'AB Dinda', 'R Bhatia', 'Iqbal Abdulla',\n",
       "       'Tejas Baroka', 'MS Gony', 'M Morkel', 'R Sathish', 'C Munro',\n",
       "       'NLTC Perera', 'KJ Abbott', 'Gurkeerat Singh', 'Sachin Baby',\n",
       "       'M Vijay', 'PV Tambe', 'V Kohli', 'RP Singh', 'GB Hogg',\n",
       "       'Parvez Rasool', 'SM Boland', 'JA Morkel', 'P Sahu', 'D Wiese',\n",
       "       'A Ashish Reddy', 'JW Hastings', 'S Ladda', 'MA Starc',\n",
       "       'Azhar Mahmood', 'IC Pandey', 'BE Hendricks', 'GS Sandhu',\n",
       "       'RS Bopara', 'J Botha', 'M de Lange', 'Karanveer Singh',\n",
       "       'RN ten Doeschate', 'RG More', 'J Theron', 'DJ Muthuswami',\n",
       "       'Shivam Sharma', 'AN Ahmed', 'P Suyal', 'DJG Sammy', 'PP Ojha',\n",
       "       'L Balaji', 'P Awana', 'KK Cooper', 'R Rampaul', 'S Rana',\n",
       "       'VS Malik', 'WD Parnell', 'M Muralitharan', 'K Santokie',\n",
       "       'BW Hilfenhaus', 'Y Venugopal Rao', 'DJ Hussey', 'R Shukla',\n",
       "       'LMP Simmons', 'JH Kallis', 'LR Shukla', 'M Kartik', 'SA Yadav',\n",
       "       'R Sharma', 'SK Trivedi', 'Anand Rajan', 'AG Murtaza',\n",
       "       'AC Gilchrist', 'BJ Hodge', 'MG Neser', 'AA Chavan',\n",
       "       'RE van der Merwe', 'SMSM Senanayake', 'LJ Wright', 'RV Gomez',\n",
       "       'Harmeet Singh', 'BA Bhatt', 'AB Agarkar', 'A Mithun',\n",
       "       'BAW Mendis', 'J Syed Mohammad', 'K Upadhyay', 'A Chandila',\n",
       "       'S Sreesanth', 'R McLaren', 'SW Tait', 'BJ Rohrer', 'CL White',\n",
       "       'BMAJ Mendis', 'S Narwal', 'TL Suman', 'B Lee', 'AM Nayar',\n",
       "       'DP Nannes', 'AJ Finch', 'AD Mascarenhas', 'V Sehwag',\n",
       "       'AB McDonald', 'RJ Harris', 'TM Dilshan', 'JDP Oram',\n",
       "       'Sunny Gupta', 'JEC Franklin', 'P Parameswaran', 'V Pratap Singh',\n",
       "       'MJ Clarke', 'SC Ganguly', 'VY Mahesh', 'KP Appanna',\n",
       "       'TP Sudhindra', 'AA Jhunjhunwala', 'JD Ryder', 'AC Thomas',\n",
       "       'Pankaj Singh', 'S Dhawan', 'DJ Harris', 'RR Powar', 'SPD Smith',\n",
       "       'RJ Peterson', 'DL Vettori', 'AUK Pathan', 'A Singh', 'AL Menaria',\n",
       "       'KMDN Kulasekara', 'CJ McKay', 'KP Pietersen', 'Y Nagar',\n",
       "       'DE Bollinger', 'RR Bhatkal', 'F du Plessis', 'DAJ Bracewell',\n",
       "       'PC Valthaty', 'RW Price', 'SS Mundhe', 'SK Warne',\n",
       "       'JJ van der Wath', 'CK Langeveldt', 'SJ Srivastava', 'M Manhas',\n",
       "       'P Prasanth', 'Y Gnaneswara Rao', 'ND Doshi', 'AM Salvi',\n",
       "       'JR Hopes', 'S Sriram', 'AA Kazi', 'LRPL Taylor', 'SB Wagh',\n",
       "       'A Symonds', 'S Randiv', 'L Ablish', 'I Malhotra', 'B Chipli',\n",
       "       'JE Taylor', 'NL McCullum', 'B Akhil', 'Kamran Khan',\n",
       "       'Joginder Sharma', 'AS Raut', 'R Ninan', 'SB Styris',\n",
       "       'DB Ravi Teja', 'NJ Rimmington', 'CRD Fernando', 'A Kumble',\n",
       "       'SE Bond', 'PD Collingwood', 'WPUJC Vaas', 'S Tyagi', 'JM Kemp',\n",
       "       'VRV Singh', 'AC Voges', 'FY Fazal', 'AP Dole', 'ST Jayasuriya',\n",
       "       'MF Maharoof', 'T Thushara', 'Jaskaran Singh', 'KAJ Roach',\n",
       "       'MB Parmar', 'C Ganapathy', 'K Goel', 'YA Abdulla', 'A Uniyal',\n",
       "       'RS Gavaskar', 'RA Shaikh', 'WA Mota', 'SS Sarkar', 'T Henderson',\n",
       "       'Mashrafe Mortaza', 'C Nanda', 'Shoaib Ahmed', 'RR Raje',\n",
       "       'AM Rahane', 'SM Harwood', 'SR Tendulkar', 'LA Carseldine',\n",
       "       'D du Preez', 'FH Edwards', 'GR Napier', 'RR Bose', 'A Flintoff',\n",
       "       'Sohail Tanvir', 'M Ntini', 'GD McGrath', 'Mohammad Asif',\n",
       "       'DP Vijaykumar', 'Shahid Afridi', 'PM Sarvesh Kumar', 'SM Pollock',\n",
       "       'Umar Gul', 'SB Bangar', 'D Salunkhe', 'B Geeves', 'A Nel',\n",
       "       'Gagandeep Singh', 'VS Yeligati', 'SD Chitnis', 'Shoaib Akhtar',\n",
       "       'DNT Zoysa', 'DJ Thornely', 'Abdur Razzak', 'CK Kapugedera',\n",
       "       'P Amarnath', 'Shoaib Malik', 'S Vidyut', 'Mohammad Hafeez',\n",
       "       'LPC Silva', 'D Kalyankrishna', 'SB Joshi', 'MA Khote',\n",
       "       'AA Noffke'], dtype=object)"
      ]
     },
     "execution_count": 32,
     "metadata": {},
     "output_type": "execute_result"
    }
   ],
   "source": [
    "df['bowler'].unique()"
   ]
  },
  {
   "cell_type": "code",
   "execution_count": 34,
   "metadata": {},
   "outputs": [
    {
     "data": {
      "text/plain": [
       "array([nan, 'R Sai Kishore', 'Mohammed Shami', 'WP Saha', 'DA Miller',\n",
       "       'R Tewatia', 'R Parag', 'YBK Jaiswal', 'SV Samson', 'R Ashwin',\n",
       "       'OC McCoy', 'JC Buttler', 'V Kohli', 'KD Karthik', 'Q de Kock',\n",
       "       'Mohsin Khan', 'E Lewis', 'KL Rahul', 'F du Plessis',\n",
       "       'Shahbaz Ahmed', 'RM Patidar', 'AS Joseph', 'D Padikkal',\n",
       "       'MA Agarwal', 'S Dhawan', 'LS Livingstone', 'JM Sharma',\n",
       "       'PN Mankad', 'Washington Sundar', 'J Suchith', 'PK Garg',\n",
       "       'JJ Bumrah', 'RG Sharma', 'Ishan Kishan', 'TH David', 'SN Thakur',\n",
       "       'DA Warner', 'PP Shaw', 'RR Pant', 'MM Ali', 'M Pathirana',\n",
       "       'DP Conway', 'GJ Maxwell', 'HH Pandya', 'MS Wade', 'MP Stoinis',\n",
       "       'DJ Hooda', 'M Markande', 'Tilak Varma', 'KS Williamson',\n",
       "       'B Kumar', 'T Natarajan', 'RD Chahar', 'PBB Rajapaksa', 'R Dhawan',\n",
       "       'Harpreet Brar', 'AR Patel', 'A Nortje', 'R Powell', 'KH Pandya',\n",
       "       'JDS Neesham', 'Rashid Khan', 'Yash Dayal', 'S Dube',\n",
       "       'Shashank Singh', 'RA Tripathi', 'SW Billings', 'VR Iyer',\n",
       "       'SS Iyer', 'HV Patel', 'Mohammed Siraj', 'PWH de Silva',\n",
       "       'Arshdeep Singh', 'HR Shokeen', 'MS Dhoni', 'Lalit Yadav',\n",
       "       'KL Nagarkoti', 'KR Sen', 'Avesh Khan', 'A Badoni', 'DR Sams',\n",
       "       'KA Pollard', 'SP Jackson', 'N Rana', 'AM Rahane', 'RK Singh',\n",
       "       'CV Varun', 'RD Gaikwad', 'RV Uthappa', 'AK Markram', 'MK Lomror',\n",
       "       'Shivam Mavi', 'AJ Finch', 'B Indrajith', 'JO Holder', 'N Pooran',\n",
       "       'Kuldeep Yadav', 'RV Patel', 'RA Jadeja', 'Mukesh Choudhary',\n",
       "       'SS Prabhudessai', 'K Rabada', 'Sandeep Sharma', 'PJ Sangwan',\n",
       "       'AS Roy', 'Umran Malik', 'D Pretorius', 'Simarjeet Singh',\n",
       "       'K Gowtham', 'SA Yadav', 'DJ Mitchell', 'Shubman Gill',\n",
       "       'Anuj Rawat', 'JM Bairstow', 'C Sakariya', 'SP Narine', 'M Jansen',\n",
       "       'M Prasidh Krishna', 'MJ Santner', 'RP Meredith', 'D Brevis',\n",
       "       'PVD Chameera', 'Ravi Bishnoi', 'UT Yadav', 'LH Ferguson',\n",
       "       'A Manohar', 'TA Boult', 'JD Unadkat', 'Mustafizur Rahman',\n",
       "       'NT Ellis', 'PJ Cummins', 'SO Hetmyer', 'KK Nair', 'V Shankar',\n",
       "       'CJ Jordan', 'M Shahrukh Khan', 'HE van der Dussen', 'VG Arora',\n",
       "       'OF Smith', 'AT Rayudu', 'Abhishek Sharma', 'B Sai Sudharsan',\n",
       "       'SN Khan', 'Ramandeep Singh', 'Basil Thampi', 'Navdeep Saini',\n",
       "       'AJ Tye', 'MK Pandey', 'DJ Bravo', 'TG Southee', 'DJ Willey',\n",
       "       'Akash Deep', 'AD Russell', 'Abdul Samad', 'TL Seifert',\n",
       "       'Mandeep Singh', 'TU Deshpande', 'DL Chahar', 'Shakib Al Hasan',\n",
       "       'SPD Smith', 'AB de Villiers', 'KS Bharat', 'SK Raina', 'FA Allen',\n",
       "       'Kartik Tyagi', 'YS Chahal', 'CH Gayle', 'EJG Morgan', 'AF Milne',\n",
       "       'SS Tiwary', 'DT Christian', 'GHS Garton', 'JJ Roy', 'J Yadav',\n",
       "       'S Kaul', 'GD Phillips', 'JR Hazlewood', 'Mohammad Nabi',\n",
       "       'NM Coulter-Nile', 'DJ Malan', 'CH Morris', 'KM Jadhav',\n",
       "       'KA Jamieson', 'MC Henriques', 'KW Richardson', 'L Ngidi',\n",
       "       'JA Richardson', 'Harbhajan Singh', 'Virat Singh', 'S Nadeem',\n",
       "       'BA Stokes', 'SM Curran', 'CA Lynn', 'P Dubey', 'KMA Paul',\n",
       "       'SP Goswami', 'A Zampa', 'P Negi', 'Gurkeerat Singh', 'JC Archer',\n",
       "       'I Udana', 'A Mishra', 'AT Carey', 'S Gopal', 'P Simran Singh',\n",
       "       'CJ Green', 'M Ashwin', 'NS Naik', 'SR Watson', 'JL Pattinson',\n",
       "       'KK Ahmed', 'TK Curran', 'Imran Tahir', 'SE Rutherford',\n",
       "       'Anmolpreet Singh', 'DR Shorey', 'C de Grandhomme', 'MJ Guptill',\n",
       "       'YK Pathan', 'I Sharma', 'S Sandeep Warrier', 'O Thomas',\n",
       "       'Mujeeb Ur Rahman', 'PA Patel', 'M Vijay', 'VR Aaron',\n",
       "       'DS Kulkarni', 'Milind Kumar', 'PP Chawla', 'S Midhun',\n",
       "       'S Lamichhane', 'CA Ingram', 'AD Nath', 'H Klaasen', 'P Chopra',\n",
       "       'Rasikh Salam', 'CR Brathwaite', 'JPR Scantlebury-Searles',\n",
       "       'MM Sharma', 'Yuvraj Singh', 'AS Rajpoot', 'BCJ Cutting',\n",
       "       'Anureet Singh', 'STR Binny', 'AD Hales', 'JP Duminy', 'MK Tiwary',\n",
       "       'DJM Short', 'MG Johnson', 'C Munro', 'LE Plunkett', 'KV Sharma',\n",
       "       'CR Woakes', 'AP Tare', 'G Gambhir', 'BB Sran', 'R Vinay Kumar',\n",
       "       'B Laughlin', 'BB McCullum', 'MA Wood', 'SL Malinga', 'NV Ojha',\n",
       "       'Z Khan', 'CJ Anderson', 'Vishnu Vinod', 'JP Faulkner', 'M Vohra',\n",
       "       'DR Smith', 'SE Marsh', 'MN Samuels', 'LMP Simmons',\n",
       "       'Bipul Sharma', 'S Badree', 'Ankit Soni', 'TM Head', 'IK Pathan',\n",
       "       'A Nehra', 'TS Mills', 'AD Mathews', 'S Aravind', 'MJ McClenaghan',\n",
       "       'B Stanlake', 'R Bhatia', 'Sachin Baby', 'Iqbal Abdulla',\n",
       "       'ER Dwivedi', 'SB Jakati', 'R Sathish', 'GJ Bailey', 'F Behardien',\n",
       "       'UT Khawaja', 'NLTC Perera', 'KC Cariappa', 'GB Hogg',\n",
       "       'Parvez Rasool', 'P Kumar', 'A Ashish Reddy', 'JA Morkel',\n",
       "       'PV Tambe', 'Ankit Sharma', 'D Wiese', 'KP Pietersen',\n",
       "       'MEK Hussey', 'MA Starc', 'UBT Chand', 'M Morkel', 'AB Dinda',\n",
       "       'DW Steyn', 'BE Hendricks', 'IC Pandey', 'J Botha', 'RS Bopara',\n",
       "       'RN ten Doeschate', 'B Aparajith', 'GH Vihari', 'RR Rossouw',\n",
       "       'MS Bisla', 'RG More', 'DJG Sammy', 'Karanveer Singh', 'CM Gautam',\n",
       "       'V Sehwag', 'DJ Hussey', 'BR Dunk', 'BJ Hodge', 'YV Takawale',\n",
       "       'VS Malik', 'WD Parnell', 'KK Cooper', 'K Santokie', 'R Shukla',\n",
       "       'Shivam Sharma', 'S Rana', 'DH Yagnik', 'M Kartik', 'JH Kallis',\n",
       "       'M Manhas', 'Y Venugopal Rao', 'LR Shukla', 'AV Wankhade',\n",
       "       'AM Nayar', 'BW Hilfenhaus', 'LRPL Taylor', 'NJ Maddinson',\n",
       "       'SK Trivedi', 'CL White', 'BB Samantray', 'P Dogra', 'LJ Wright',\n",
       "       'RV Gomez', 'AC Gilchrist', 'KB Arun Karthik', 'PP Ojha',\n",
       "       'BJ Rohrer', 'AG Murtaza', 'P Awana', 'L Balaji', 'SR Tendulkar',\n",
       "       'CA Pujara', 'M Rawat', 'K Upadhyay', 'S Badrinath', 'R McLaren',\n",
       "       'AN Ahmed', 'R Dravid', 'AB Agarkar', 'KC Sangakkara', 'MR Marsh',\n",
       "       'R Sharma', 'UA Birla', 'P Suyal', 'M Muralitharan', 'RP Singh',\n",
       "       'DB Das', 'DP Nannes', 'R Rampaul', 'SMSM Senanayake',\n",
       "       'TM Dilshan', 'A Chandila', 'PA Reddy', 'Azhar Mahmood',\n",
       "       'BMAJ Mendis', 'DPMD Jayawardene', 'TL Suman', 'Anand Rajan',\n",
       "       'RT Ponting', 'B Lee', 'KP Appanna', 'MS Gony', 'JD Ryder',\n",
       "       'OA Shah', 'N Saini', 'S Anirudha', 'HH Gibbs', 'RJ Harris',\n",
       "       'SC Ganguly', 'MM Patel', 'AC Thomas', 'SW Tait', 'DJ Harris',\n",
       "       'AA Chavan', 'MJ Clarke', 'JEC Franklin', 'AA Jhunjhunwala',\n",
       "       'RJ Peterson', 'DL Vettori', 'VY Mahesh', 'IR Jaggi', 'AL Menaria',\n",
       "       'LA Pomersbach', 'SD Chitnis', 'KMDN Kulasekara', 'DE Bollinger',\n",
       "       'AD Mascarenhas', 'T Mishra', 'DJ Jacobs', 'RE Levi', 'Y Nagar',\n",
       "       'RR Bhatkal', 'RE van der Merwe', 'PC Valthaty', 'B Chipli',\n",
       "       'DAJ Bracewell', 'A Singh', 'CJ Ferguson', 'A Mithun',\n",
       "       'DB Ravi Teja', 'KH Devdhar', 'PR Shah', 'Y Gnaneswara Rao',\n",
       "       'JR Hopes', 'A Symonds', 'MJ Lumb', 'MV Boucher', 'M Kaif',\n",
       "       'AC Blizzard', 'SJ Srivastava', 'S Randiv', 'AUK Pathan',\n",
       "       'AM Salvi', 'S Ladda', 'Harpreet Singh', 'J Syed Mohammad',\n",
       "       'S Sreesanth', 'NL McCullum', 'A Mukund', 'AS Raut', 'SB Wagh',\n",
       "       'Sunny Singh', 'R Ninan', 'AG Paunikar', 'GC Smith', 'SK Warne',\n",
       "       'SB Styris', 'CRD Fernando', 'ML Hayden', 'S Tyagi', 'K Goel',\n",
       "       'J Theron', 'PD Collingwood', 'A Kumble', 'AC Voges', 'B Sumanth',\n",
       "       'AP Dole', 'ST Jayasuriya', 'RS Sodhi', 'MD Mishra', 'FY Fazal',\n",
       "       'T Thushara', 'AA Bilakhia', 'VVS Laxman', 'Anirudh Singh',\n",
       "       'S Narwal', 'KAJ Roach', 'Joginder Sharma', 'WPUJC Vaas',\n",
       "       'JM Kemp', 'MF Maharoof', 'Harmeet Singh', 'Mohammad Ashraful',\n",
       "       'SM Katich', 'JDP Oram', 'SS Shaikh', 'RJ Quiney', 'NK Patel',\n",
       "       'Mashrafe Mortaza', 'S Sohal', 'WA Mota', 'B Akhil',\n",
       "       'Shoaib Ahmed', 'RR Raje', 'LA Carseldine', 'MN van Wyk',\n",
       "       'RR Powar', 'L Ronchi', 'VRV Singh', 'W Jaffer', 'SM Harwood',\n",
       "       'Kamran Khan', 'T Kohli', 'SA Asnodkar', 'BAW Mendis', 'AN Ghosh',\n",
       "       'Pankaj Singh', 'Yashpal Singh', 'A Flintoff', 'A Chopra',\n",
       "       'R Bishnoi', 'Kamran Akmal', 'M Ntini', 'CK Kapugedera',\n",
       "       'Sohail Tanvir', 'Shahid Afridi', 'TM Srivastava', 'SB Bangar',\n",
       "       'AS Yadav', 'B Geeves', 'LPC Silva', 'SP Fleming', 'SM Pollock',\n",
       "       'Salman Butt', 'DJ Thornely', 'Misbah-ul-Haq', 'Shoaib Malik',\n",
       "       'D Salunkhe', 'Younis Khan', 'GD McGrath', 'T Taibu', 'P Amarnath',\n",
       "       'S Vidyut', 'U Kaul', 'DT Patil', 'Umar Gul', 'RR Sarwan',\n",
       "       'D Kalyankrishna', 'Mohammad Hafeez'], dtype=object)"
      ]
     },
     "execution_count": 34,
     "metadata": {},
     "output_type": "execute_result"
    }
   ],
   "source": [
    "df['fielders_involved'].unique()"
   ]
  },
  {
   "cell_type": "code",
   "execution_count": 35,
   "metadata": {},
   "outputs": [
    {
     "data": {
      "text/plain": [
       "array(['Rajasthan Royals', 'Gujarat Titans',\n",
       "       'Royal Challengers Bangalore', 'Lucknow Super Giants',\n",
       "       'Sunrisers Hyderabad', 'Punjab Kings', 'Delhi Capitals',\n",
       "       'Mumbai Indians', 'Chennai Super Kings', 'Kolkata Knight Riders',\n",
       "       'Kings XI Punjab', 'Delhi Daredevils', 'Rising Pune Supergiant',\n",
       "       'Gujarat Lions', 'Rising Pune Supergiants', 'Pune Warriors',\n",
       "       'Deccan Chargers', 'Kochi Tuskers Kerala'], dtype=object)"
      ]
     },
     "execution_count": 35,
     "metadata": {},
     "output_type": "execute_result"
    }
   ],
   "source": [
    "df['BattingTeam'].unique()"
   ]
  },
  {
   "cell_type": "code",
   "execution_count": 38,
   "metadata": {},
   "outputs": [],
   "source": [
    "df.loc[df['BattingTeam'] == 'Gujarat Lions', 'BattingTeam'] = 'Gujarat Titans'\n",
    "df.loc[df['BattingTeam'] == 'Deccan Chargers', 'BattingTeam'] = 'Sunrisers Hyderabad'\n",
    "df.loc[df['BattingTeam'] == 'Kings XI Punjab', 'BattingTeam'] = 'Punjab Kings'\n",
    "df.loc[df['BattingTeam'] == 'Delhi Daredevils', 'BattingTeam'] = 'Delhi Capitals'\n",
    "df.loc[(df['BattingTeam'] == 'Rising Pune Supergiant') | (df['BattingTeam'] == 'Pune Warriors'), 'BattingTeam'] = 'Rising Pune Supergiants'"
   ]
  },
  {
   "cell_type": "code",
   "execution_count": 39,
   "metadata": {},
   "outputs": [
    {
     "data": {
      "text/plain": [
       "array(['Rajasthan Royals', 'Gujarat Titans',\n",
       "       'Royal Challengers Bangalore', 'Lucknow Super Giants',\n",
       "       'Sunrisers Hyderabad', 'Punjab Kings', 'Delhi Capitals',\n",
       "       'Mumbai Indians', 'Chennai Super Kings', 'Kolkata Knight Riders',\n",
       "       'Rising Pune Supergiants', 'Kochi Tuskers Kerala'], dtype=object)"
      ]
     },
     "execution_count": 39,
     "metadata": {},
     "output_type": "execute_result"
    }
   ],
   "source": [
    "df['BattingTeam'].unique()"
   ]
  },
  {
   "cell_type": "code",
   "execution_count": 40,
   "metadata": {},
   "outputs": [
    {
     "data": {
      "text/plain": [
       "array([nan, 'legbyes', 'wides', 'byes', 'noballs', 'penalty'],\n",
       "      dtype=object)"
      ]
     },
     "execution_count": 40,
     "metadata": {},
     "output_type": "execute_result"
    }
   ],
   "source": [
    "df['extra_type'].unique()"
   ]
  },
  {
   "cell_type": "code",
   "execution_count": 41,
   "metadata": {},
   "outputs": [],
   "source": [
    "df.to_csv(\"../Data/deliveries_cleaned.csv\", index = False)"
   ]
  }
 ],
 "metadata": {
  "kernelspec": {
   "display_name": "Python 3",
   "language": "python",
   "name": "python3"
  },
  "language_info": {
   "codemirror_mode": {
    "name": "ipython",
    "version": 3
   },
   "file_extension": ".py",
   "mimetype": "text/x-python",
   "name": "python",
   "nbconvert_exporter": "python",
   "pygments_lexer": "ipython3",
   "version": "3.10.0"
  },
  "orig_nbformat": 4,
  "vscode": {
   "interpreter": {
    "hash": "369f2c481f4da34e4445cda3fffd2e751bd1c4d706f27375911949ba6bb62e1c"
   }
  }
 },
 "nbformat": 4,
 "nbformat_minor": 2
}
