{
 "cells": [
  {
   "cell_type": "code",
   "execution_count": 3,
   "metadata": {},
   "outputs": [],
   "source": [
    "import pandas as pd\n",
    "from sklearn.model_selection import train_test_split\n",
    "from sklearn.metrics import classification_report"
   ]
  },
  {
   "cell_type": "code",
   "execution_count": 4,
   "metadata": {},
   "outputs": [],
   "source": [
    "df = pd.read_csv('../Data/inning2.csv')"
   ]
  },
  {
   "cell_type": "code",
   "execution_count": 5,
   "metadata": {},
   "outputs": [],
   "source": [
    "X_train, X_test, y_train, y_test = train_test_split(df.drop('bowling_team_won', axis = 1), df['bowling_team_won'], test_size = 0.3)"
   ]
  },
  {
   "cell_type": "code",
   "execution_count": 6,
   "metadata": {},
   "outputs": [],
   "source": [
    "from sklearn.preprocessing import StandardScaler"
   ]
  },
  {
   "cell_type": "code",
   "execution_count": 7,
   "metadata": {},
   "outputs": [],
   "source": [
    "scaler = StandardScaler()"
   ]
  },
  {
   "cell_type": "code",
   "execution_count": 8,
   "metadata": {},
   "outputs": [
    {
     "data": {
      "text/plain": [
       "StandardScaler()"
      ]
     },
     "execution_count": 8,
     "metadata": {},
     "output_type": "execute_result"
    }
   ],
   "source": [
    "scaler.fit(X_train)"
   ]
  },
  {
   "cell_type": "code",
   "execution_count": 9,
   "metadata": {},
   "outputs": [],
   "source": [
    "X_train = scaler.transform(X_train)\n",
    "X_test = scaler.transform(X_test)"
   ]
  },
  {
   "cell_type": "code",
   "execution_count": 10,
   "metadata": {},
   "outputs": [],
   "source": [
    "from tensorflow.keras.models import Sequential\n",
    "from tensorflow.keras.layers import Dense\n",
    "from tensorflow.keras.optimizers import Adam"
   ]
  },
  {
   "cell_type": "code",
   "execution_count": 11,
   "metadata": {},
   "outputs": [],
   "source": [
    "model = Sequential()\n",
    "model.add(Dense(15, input_dim=X_train.shape[1], kernel_initializer='normal', activation='relu'))\n",
    "model.add(Dense(7, activation='relu'))\n",
    "model.add(Dense(1, activation='sigmoid'))"
   ]
  },
  {
   "cell_type": "code",
   "execution_count": 12,
   "metadata": {},
   "outputs": [],
   "source": [
    "model.compile(optimizer = Adam(), loss = 'binary_crossentropy', metrics = ['accuracy'])"
   ]
  },
  {
   "cell_type": "code",
   "execution_count": 13,
   "metadata": {},
   "outputs": [
    {
     "name": "stdout",
     "output_type": "stream",
     "text": [
      "Model: \"sequential_1\"\n",
      "_________________________________________________________________\n",
      " Layer (type)                Output Shape              Param #   \n",
      "=================================================================\n",
      " dense (Dense)               (None, 15)                270       \n",
      "                                                                 \n",
      " dense_1 (Dense)             (None, 7)                 112       \n",
      "                                                                 \n",
      " dense_2 (Dense)             (None, 1)                 8         \n",
      "                                                                 \n",
      "=================================================================\n",
      "Total params: 390\n",
      "Trainable params: 390\n",
      "Non-trainable params: 0\n",
      "_________________________________________________________________\n"
     ]
    }
   ],
   "source": [
    "model.summary()"
   ]
  },
  {
   "cell_type": "code",
   "execution_count": 14,
   "metadata": {},
   "outputs": [
    {
     "name": "stdout",
     "output_type": "stream",
     "text": [
      "Epoch 1/30\n",
      "7421/7421 [==============================] - 10s 1ms/step - loss: 0.4994 - accuracy: 0.7486\n",
      "Epoch 2/30\n",
      "7421/7421 [==============================] - 10s 1ms/step - loss: 0.4697 - accuracy: 0.7657\n",
      "Epoch 3/30\n",
      "7421/7421 [==============================] - 10s 1ms/step - loss: 0.4526 - accuracy: 0.7770\n",
      "Epoch 4/30\n",
      "7421/7421 [==============================] - 10s 1ms/step - loss: 0.4412 - accuracy: 0.7851\n",
      "Epoch 5/30\n",
      "7421/7421 [==============================] - 10s 1ms/step - loss: 0.4317 - accuracy: 0.7907\n",
      "Epoch 6/30\n",
      "7421/7421 [==============================] - 10s 1ms/step - loss: 0.4219 - accuracy: 0.7968\n",
      "Epoch 7/30\n",
      "7421/7421 [==============================] - 10s 1ms/step - loss: 0.4160 - accuracy: 0.7980\n",
      "Epoch 8/30\n",
      "7421/7421 [==============================] - 10s 1ms/step - loss: 0.4087 - accuracy: 0.8016\n",
      "Epoch 9/30\n",
      "7421/7421 [==============================] - 10s 1ms/step - loss: 0.4032 - accuracy: 0.8047\n",
      "Epoch 10/30\n",
      "7421/7421 [==============================] - 11s 1ms/step - loss: 0.3984 - accuracy: 0.8070\n",
      "Epoch 11/30\n",
      "7421/7421 [==============================] - 11s 1ms/step - loss: 0.3940 - accuracy: 0.8121\n",
      "Epoch 12/30\n",
      "7421/7421 [==============================] - 11s 1ms/step - loss: 0.3883 - accuracy: 0.8135\n",
      "Epoch 13/30\n",
      "7421/7421 [==============================] - 13s 2ms/step - loss: 0.3820 - accuracy: 0.8178\n",
      "Epoch 14/30\n",
      "7421/7421 [==============================] - 11s 1ms/step - loss: 0.3769 - accuracy: 0.8216\n",
      "Epoch 15/30\n",
      "7421/7421 [==============================] - 10s 1ms/step - loss: 0.3709 - accuracy: 0.8248\n",
      "Epoch 16/30\n",
      "7421/7421 [==============================] - 10s 1ms/step - loss: 0.3673 - accuracy: 0.8285\n",
      "Epoch 17/30\n",
      "7421/7421 [==============================] - 11s 1ms/step - loss: 0.3628 - accuracy: 0.8306\n",
      "Epoch 18/30\n",
      "7421/7421 [==============================] - 11s 1ms/step - loss: 0.3602 - accuracy: 0.8331\n",
      "Epoch 19/30\n",
      "7421/7421 [==============================] - 11s 1ms/step - loss: 0.3569 - accuracy: 0.8356\n",
      "Epoch 20/30\n",
      "7421/7421 [==============================] - 11s 1ms/step - loss: 0.3546 - accuracy: 0.8366\n",
      "Epoch 21/30\n",
      "7421/7421 [==============================] - 11s 1ms/step - loss: 0.3513 - accuracy: 0.8394\n",
      "Epoch 22/30\n",
      "7421/7421 [==============================] - 10s 1ms/step - loss: 0.3487 - accuracy: 0.8393\n",
      "Epoch 23/30\n",
      "7421/7421 [==============================] - 12s 2ms/step - loss: 0.3474 - accuracy: 0.8415\n",
      "Epoch 24/30\n",
      "7421/7421 [==============================] - 12s 2ms/step - loss: 0.3452 - accuracy: 0.8425\n",
      "Epoch 25/30\n",
      "7421/7421 [==============================] - 10s 1ms/step - loss: 0.3416 - accuracy: 0.8438\n",
      "Epoch 26/30\n",
      "7421/7421 [==============================] - 10s 1ms/step - loss: 0.3385 - accuracy: 0.8465\n",
      "Epoch 27/30\n",
      "7421/7421 [==============================] - 10s 1ms/step - loss: 0.3348 - accuracy: 0.8463\n",
      "Epoch 28/30\n",
      "7421/7421 [==============================] - 10s 1ms/step - loss: 0.3314 - accuracy: 0.8487\n",
      "Epoch 29/30\n",
      "7421/7421 [==============================] - 11s 1ms/step - loss: 0.3277 - accuracy: 0.8492\n",
      "Epoch 30/30\n",
      "7421/7421 [==============================] - 10s 1ms/step - loss: 0.3249 - accuracy: 0.8505\n"
     ]
    },
    {
     "data": {
      "text/plain": [
       "<keras.callbacks.History at 0x189a961ae80>"
      ]
     },
     "execution_count": 14,
     "metadata": {},
     "output_type": "execute_result"
    }
   ],
   "source": [
    "model.fit(X_train, y_train, epochs = 30, batch_size = 10)"
   ]
  },
  {
   "cell_type": "code",
   "execution_count": 15,
   "metadata": {},
   "outputs": [
    {
     "name": "stdout",
     "output_type": "stream",
     "text": [
      "994/994 [==============================] - 1s 1ms/step - loss: 0.3276 - accuracy: 0.8482\n"
     ]
    }
   ],
   "source": [
    "loss, acc = model.evaluate(X_test, y_test)"
   ]
  },
  {
   "cell_type": "code",
   "execution_count": 16,
   "metadata": {},
   "outputs": [
    {
     "name": "stdout",
     "output_type": "stream",
     "text": [
      "0.8482266664505005\n"
     ]
    }
   ],
   "source": [
    "print(acc)"
   ]
  },
  {
   "cell_type": "code",
   "execution_count": null,
   "metadata": {},
   "outputs": [],
   "source": []
  }
 ],
 "metadata": {
  "kernelspec": {
   "display_name": "base",
   "language": "python",
   "name": "python3"
  },
  "language_info": {
   "codemirror_mode": {
    "name": "ipython",
    "version": 3
   },
   "file_extension": ".py",
   "mimetype": "text/x-python",
   "name": "python",
   "nbconvert_exporter": "python",
   "pygments_lexer": "ipython3",
   "version": "3.8.8"
  },
  "orig_nbformat": 4,
  "vscode": {
   "interpreter": {
    "hash": "4e586c6009393cfcf202ec50297316e9382f54d1058e51032afd540e90a9d6c1"
   }
  }
 },
 "nbformat": 4,
 "nbformat_minor": 2
}
