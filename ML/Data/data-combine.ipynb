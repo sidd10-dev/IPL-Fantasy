{
 "cells": [
  {
   "attachments": {},
   "cell_type": "markdown",
   "metadata": {},
   "source": [
    "NOTEBOOK TO COMBINE ALL YEARS DATASET"
   ]
  },
  {
   "cell_type": "code",
   "execution_count": 1,
   "metadata": {},
   "outputs": [],
   "source": [
    "import pandas as pd\n",
    "import numpy as np"
   ]
  },
  {
   "attachments": {},
   "cell_type": "markdown",
   "metadata": {},
   "source": [
    "Deliveries"
   ]
  },
  {
   "cell_type": "code",
   "execution_count": 2,
   "metadata": {},
   "outputs": [],
   "source": [
    "d1 = pd.read_csv(\"./IPL Ball-by-Ball 2008-2020.csv\")\n",
    "d2 = pd.read_csv(\"./IPL Ball-by-Ball 2021.csv\")\n",
    "d3 = pd.read_csv(\"./IPL_Ball_by_Ball_2022.csv\")"
   ]
  },
  {
   "attachments": {},
   "cell_type": "markdown",
   "metadata": {},
   "source": [
    "Matches"
   ]
  },
  {
   "cell_type": "code",
   "execution_count": 3,
   "metadata": {},
   "outputs": [],
   "source": [
    "m1 = pd.read_csv(\"./IPL Matches 2008-2020.csv\")\n",
    "m2 = pd.read_csv(\"./IPL Matches 2021.csv\")\n",
    "m3 = pd.read_csv(\"./IPL_Matches_2022.csv\")"
   ]
  },
  {
   "attachments": {},
   "cell_type": "markdown",
   "metadata": {},
   "source": [
    "COMBINING DELIVERIES"
   ]
  },
  {
   "attachments": {},
   "cell_type": "markdown",
   "metadata": {},
   "source": [
    "Making Data Uniform"
   ]
  },
  {
   "attachments": {},
   "cell_type": "markdown",
   "metadata": {},
   "source": [
    "Columns in Deliveries:  \n",
    "*match_no, innings, over, ball, batsman, bowler, is_wicket, dismissal_type, fielder, batsman_runs, extras, total_runs*"
   ]
  },
  {
   "cell_type": "code",
   "execution_count": 4,
   "metadata": {},
   "outputs": [
    {
     "data": {
      "text/plain": [
       "Index(['batting_team', 'bowling_team', 'batsman', 'bowler', 'over', 'ball',\n",
       "       'non_striker', 'total_runs', 'batsman_runs', 'extras_runs', 'match_id',\n",
       "       'wicket', 'wicket_kind', 'wicket_player_out', 'wicket_fielders'],\n",
       "      dtype='object')"
      ]
     },
     "execution_count": 4,
     "metadata": {},
     "output_type": "execute_result"
    }
   ],
   "source": [
    "d1.columns"
   ]
  },
  {
   "cell_type": "code",
   "execution_count": 5,
   "metadata": {},
   "outputs": [],
   "source": [
    "innings = []\n",
    "for i in d1[\"match_id\"]:\n",
    "  match_ = m1[m1[\"match_id\"] == i]\n",
    "  if ((match_[\"toss_decision\"][i-1] == \"field\" and match_[\"toss_winner\"][i-1] == d1[\"bowling_team\"][i]) or (match_['toss_decision'][i-1] == \"bat\" and match_[\"toss_winner\"][i-1] == d1[\"batting_team\"][i])):\n",
    "    innings.append(1)\n",
    "  else:\n",
    "    innings.append(2)\n",
    "d1['innings'] = innings"
   ]
  },
  {
   "cell_type": "code",
   "execution_count": 6,
   "metadata": {},
   "outputs": [],
   "source": [
    "d1.drop([\"batting_team\", \"bowling_team\", \"non_striker\", \"wicket_player_out\"], axis=1, inplace=True)"
   ]
  },
  {
   "cell_type": "code",
   "execution_count": 7,
   "metadata": {},
   "outputs": [
    {
     "data": {
      "text/plain": [
       "Index(['batsman', 'bowler', 'over', 'ball', 'total_runs', 'batsman_runs',\n",
       "       'extras', 'match_no', 'is_wicket', 'dismissal_type', 'fielder',\n",
       "       'innings'],\n",
       "      dtype='object')"
      ]
     },
     "execution_count": 7,
     "metadata": {},
     "output_type": "execute_result"
    }
   ],
   "source": [
    "d1.rename(columns={\"match_id\": \"match_no\", \"wicket\": \"is_wicket\", \"wicket_kind\": \"dismissal_type\", \"wicket_fielders\": \"fielder\", \"extras_runs\": \"extras\"}, inplace = True)\n",
    "d1.columns"
   ]
  },
  {
   "attachments": {},
   "cell_type": "markdown",
   "metadata": {},
   "source": [
    "*2008 to 2020 Modified*"
   ]
  },
  {
   "cell_type": "code",
   "execution_count": 8,
   "metadata": {},
   "outputs": [
    {
     "data": {
      "text/plain": [
       "Index(['match_no', 'inning', 'over', 'ball', 'batsman', 'bowler', 'is_wicket',\n",
       "       'dismissal_type', 'fielder', 'batsman_run', 'extra_run', 'total_run',\n",
       "       'extra_type'],\n",
       "      dtype='object')"
      ]
     },
     "execution_count": 8,
     "metadata": {},
     "output_type": "execute_result"
    }
   ],
   "source": [
    "d2.columns"
   ]
  },
  {
   "cell_type": "code",
   "execution_count": 9,
   "metadata": {},
   "outputs": [],
   "source": [
    "d2.drop(\"extra_type\", axis=1, inplace=True)"
   ]
  },
  {
   "cell_type": "code",
   "execution_count": 10,
   "metadata": {},
   "outputs": [],
   "source": [
    "d2.rename(columns={\"inning\": \"innings\", \"total_run\": \"total_runs\", \"extra_run\": \"extras\", \"batsman_run\": \"batsman_runs\"}, inplace=True)"
   ]
  },
  {
   "cell_type": "code",
   "execution_count": 11,
   "metadata": {},
   "outputs": [],
   "source": [
    "d2[\"match_no\"] += 816"
   ]
  },
  {
   "cell_type": "code",
   "execution_count": 12,
   "metadata": {},
   "outputs": [
    {
     "data": {
      "text/plain": [
       "Index(['match_no', 'innings', 'over', 'ball', 'batsman', 'bowler', 'is_wicket',\n",
       "       'dismissal_type', 'fielder', 'batsman_runs', 'extras', 'total_runs'],\n",
       "      dtype='object')"
      ]
     },
     "execution_count": 12,
     "metadata": {},
     "output_type": "execute_result"
    }
   ],
   "source": [
    "d2.columns"
   ]
  },
  {
   "attachments": {},
   "cell_type": "markdown",
   "metadata": {},
   "source": [
    "*2021 Modified*"
   ]
  },
  {
   "cell_type": "code",
   "execution_count": 13,
   "metadata": {},
   "outputs": [
    {
     "data": {
      "text/plain": [
       "Index(['ID', 'innings', 'overs', 'ballnumber', 'batter', 'bowler',\n",
       "       'non-striker', 'extra_type', 'batsman_run', 'extras_run', 'total_run',\n",
       "       'non_boundary', 'isWicketDelivery', 'player_out', 'kind',\n",
       "       'fielders_involved', 'BattingTeam'],\n",
       "      dtype='object')"
      ]
     },
     "execution_count": 13,
     "metadata": {},
     "output_type": "execute_result"
    }
   ],
   "source": [
    "d3.columns"
   ]
  },
  {
   "cell_type": "code",
   "execution_count": 14,
   "metadata": {},
   "outputs": [],
   "source": [
    "d3.drop([\"non-striker\", \"extra_type\", \"non_boundary\", \"player_out\", \"BattingTeam\"], axis=1, inplace = True)"
   ]
  },
  {
   "cell_type": "code",
   "execution_count": 15,
   "metadata": {},
   "outputs": [],
   "source": [
    "d3.rename(columns = {\"ID\": \"match_no\", \"overs\": \"over\", \"ballnumber\": \"ball\", \"batter\": \"batsman\", \"batsman_run\": \"batsman_runs\", \"extras_run\": \"extras\", \"total_run\": \"total_runs\", \"isWicketDelivery\": \"is_wicket\", \"kind\":\"dismissal_type\", \"fielders_involved\": \"fielder\"}, inplace = True)"
   ]
  },
  {
   "cell_type": "code",
   "execution_count": 16,
   "metadata": {},
   "outputs": [
    {
     "data": {
      "text/plain": [
       "Index(['match_no', 'innings', 'over', 'ball', 'batsman', 'bowler',\n",
       "       'batsman_runs', 'extras', 'total_runs', 'is_wicket', 'dismissal_type',\n",
       "       'fielder'],\n",
       "      dtype='object')"
      ]
     },
     "execution_count": 16,
     "metadata": {},
     "output_type": "execute_result"
    }
   ],
   "source": [
    "d3.columns"
   ]
  },
  {
   "attachments": {},
   "cell_type": "markdown",
   "metadata": {},
   "source": [
    "*2022 Modified*"
   ]
  },
  {
   "attachments": {},
   "cell_type": "markdown",
   "metadata": {},
   "source": [
    "**COMBINING ALL DELIVERY DATASETS**"
   ]
  },
  {
   "cell_type": "code",
   "execution_count": 17,
   "metadata": {},
   "outputs": [
    {
     "data": {
      "text/plain": [
       "(225792, 12)"
      ]
     },
     "execution_count": 17,
     "metadata": {},
     "output_type": "execute_result"
    }
   ],
   "source": [
    "deliveries = pd.concat([d1,d2,d3], axis = 0)\n",
    "deliveries.shape"
   ]
  },
  {
   "cell_type": "code",
   "execution_count": 18,
   "metadata": {},
   "outputs": [],
   "source": [
    "deliveries.to_csv(\"./deliveries.csv\")"
   ]
  },
  {
   "attachments": {},
   "cell_type": "markdown",
   "metadata": {},
   "source": [
    "COMBINING MATCHES"
   ]
  },
  {
   "attachments": {},
   "cell_type": "markdown",
   "metadata": {},
   "source": [
    "*Columns: match_no, date, team1, team2, toss, toss_decision, city, venue, winner, result, mom*"
   ]
  },
  {
   "cell_type": "code",
   "execution_count": 19,
   "metadata": {},
   "outputs": [
    {
     "data": {
      "text/plain": [
       "Index(['dates', 'city', 'season', 'host_team', 'visiting_team', 'toss_winner',\n",
       "       'toss_decision', 'venue', 'result', 'winner', 'player_of_match',\n",
       "       'match_id'],\n",
       "      dtype='object')"
      ]
     },
     "execution_count": 19,
     "metadata": {},
     "output_type": "execute_result"
    }
   ],
   "source": [
    "m1.columns"
   ]
  },
  {
   "cell_type": "code",
   "execution_count": 20,
   "metadata": {},
   "outputs": [],
   "source": [
    "m1.drop([\"season\"], inplace=True, axis = 1)"
   ]
  },
  {
   "cell_type": "code",
   "execution_count": 43,
   "metadata": {},
   "outputs": [],
   "source": [
    "m1.rename(columns = {\"dates\": \"date\", \"host_team\": \"team1\", \"visiting_team\": \"team2\", \"toss_winner\": \"toss\", \"player_of_match\": \"mom\", \"match_id\": \"match_no\", \"toss_decision\": \"decision\"}, inplace = True)"
   ]
  },
  {
   "cell_type": "code",
   "execution_count": 22,
   "metadata": {},
   "outputs": [
    {
     "data": {
      "text/plain": [
       "Index(['date', 'city', 'team1', 'team2', 'toss', 'toss_decision', 'venue',\n",
       "       'result', 'winner', 'mom', 'match_no'],\n",
       "      dtype='object')"
      ]
     },
     "execution_count": 22,
     "metadata": {},
     "output_type": "execute_result"
    }
   ],
   "source": [
    "m1.columns"
   ]
  },
  {
   "attachments": {},
   "cell_type": "markdown",
   "metadata": {},
   "source": [
    "*2008 to 2020 Modified*"
   ]
  },
  {
   "cell_type": "code",
   "execution_count": 23,
   "metadata": {},
   "outputs": [
    {
     "data": {
      "text/plain": [
       "Index(['match_no', 'date', 'team1', 'team2', 'venue', 'toss', 'decision',\n",
       "       'winner', 'target', 'mom'],\n",
       "      dtype='object')"
      ]
     },
     "execution_count": 23,
     "metadata": {},
     "output_type": "execute_result"
    }
   ],
   "source": [
    "m2.columns"
   ]
  },
  {
   "cell_type": "code",
   "execution_count": 24,
   "metadata": {},
   "outputs": [
    {
     "data": {
      "text/plain": [
       "array(['MA Chidambaram Stadium', 'Wankhede Stadium',\n",
       "       'Narendra Modi Stadium', 'Arun Jaitley Stadium',\n",
       "       'Dubai International Cricket Stadium', 'Sheikh Zayed Stadium',\n",
       "       'Sharjah Cricket Stadium'], dtype=object)"
      ]
     },
     "execution_count": 24,
     "metadata": {},
     "output_type": "execute_result"
    }
   ],
   "source": [
    "m2.venue.unique()"
   ]
  },
  {
   "cell_type": "code",
   "execution_count": 25,
   "metadata": {},
   "outputs": [],
   "source": [
    "venue_to_city = {'MA Chidambaram Stadium': \"Bangalore\", 'Wankhede Stadium': \"Mumbai\", 'Narendra Modi Stadium': \"Ahmedabad\", 'Arun Jaitley Stadium': \"Delhi\", \"Dubai International Cricket Stadium\": \"Dubai\", 'Sheikh Zayed Stadium': \"UAE\", 'Sharjah Cricket Stadium': \"Sharjah\"}"
   ]
  },
  {
   "cell_type": "code",
   "execution_count": 26,
   "metadata": {},
   "outputs": [],
   "source": [
    "m2[\"city\"] = m2[\"venue\"].apply(lambda x: venue_to_city[x])"
   ]
  },
  {
   "cell_type": "code",
   "execution_count": 27,
   "metadata": {},
   "outputs": [],
   "source": [
    "m2[\"match_no\"] = m2[\"match_no\"] + 816"
   ]
  },
  {
   "cell_type": "code",
   "execution_count": 28,
   "metadata": {},
   "outputs": [],
   "source": [
    "m2[\"result\"] = [1] * m2.shape[0]"
   ]
  },
  {
   "cell_type": "code",
   "execution_count": 29,
   "metadata": {},
   "outputs": [],
   "source": [
    "m2.drop(\"target\", inplace = True, axis = 1)"
   ]
  },
  {
   "cell_type": "code",
   "execution_count": 30,
   "metadata": {},
   "outputs": [
    {
     "data": {
      "text/plain": [
       "Index(['match_no', 'date', 'team1', 'team2', 'venue', 'toss', 'decision',\n",
       "       'winner', 'mom', 'city', 'result'],\n",
       "      dtype='object')"
      ]
     },
     "execution_count": 30,
     "metadata": {},
     "output_type": "execute_result"
    }
   ],
   "source": [
    "m2.columns"
   ]
  },
  {
   "attachments": {},
   "cell_type": "markdown",
   "metadata": {},
   "source": [
    "*2021 Modified*"
   ]
  },
  {
   "cell_type": "code",
   "execution_count": 31,
   "metadata": {},
   "outputs": [
    {
     "data": {
      "text/plain": [
       "Index(['ID', 'City', 'Date', 'Season', 'MatchNumber', 'Team1', 'Team2',\n",
       "       'Venue', 'TossWinner', 'TossDecision', 'SuperOver', 'WinningTeam',\n",
       "       'WonBy', 'Margin', 'method', 'Player_of_Match', 'Team1Players',\n",
       "       'Team2Players', 'Umpire1', 'Umpire2'],\n",
       "      dtype='object')"
      ]
     },
     "execution_count": 31,
     "metadata": {},
     "output_type": "execute_result"
    }
   ],
   "source": [
    "m3.columns"
   ]
  },
  {
   "cell_type": "code",
   "execution_count": 32,
   "metadata": {},
   "outputs": [],
   "source": [
    "m3.drop([\"Season\", \"SuperOver\", \"WonBy\", \"Margin\", \"method\", \"Team1Players\", \"Team2Players\", \"Umpire1\", \"Umpire2\"], axis = 1, inplace = True)"
   ]
  },
  {
   "cell_type": "code",
   "execution_count": 33,
   "metadata": {},
   "outputs": [],
   "source": [
    "m3[\"MatchNumber\"] += m1.shape[0] + m2.shape[0]"
   ]
  },
  {
   "cell_type": "code",
   "execution_count": 34,
   "metadata": {},
   "outputs": [],
   "source": [
    "deliveries = pd.read_csv(\"./deliveries.csv\")"
   ]
  },
  {
   "cell_type": "code",
   "execution_count": 35,
   "metadata": {},
   "outputs": [],
   "source": [
    "# deliveries['match_no'] = deliveries['match_no'].apply(lambda x: m3[m3[\"ID\"] == x][\"MatchNumber\"][] if x in list(m3[\"ID\"]) else int(x))\n",
    "match_no = []\n",
    "a = 0\n",
    "for i in range(len(deliveries[\"match_no\"])):\n",
    "  if deliveries[\"match_no\"][i] in list(m3[\"ID\"]):\n",
    "    match_no.append(list(m3[m3[\"ID\"] == deliveries[\"match_no\"][i]][\"MatchNumber\"])[0])\n",
    "  else:\n",
    "    match_no.append(int(deliveries[\"match_no\"][i]))\n",
    "deliveries[\"match_no\"] = match_no"
   ]
  },
  {
   "cell_type": "code",
   "execution_count": 47,
   "metadata": {},
   "outputs": [],
   "source": [
    "deliveries.drop(\"Unnamed: 0\", axis = 1).to_csv(\"./deliveries.csv\", index = False)"
   ]
  },
  {
   "cell_type": "code",
   "execution_count": 38,
   "metadata": {},
   "outputs": [],
   "source": [
    "m3.rename(columns={\"City\": \"city\", \"Date\": \"date\", \"MatchNumber\": \"match_no\", \"Team1\": \"team1\", \"Team2\": \"team2\", \"Venue\": \"venue\", \"TossWinner\": \"toss\", \"TossDecision\": \"decision\", \"WinningTeam\": \"winner\", \"Player_of_Match\": \"mom\"}, inplace=True)"
   ]
  },
  {
   "cell_type": "code",
   "execution_count": 39,
   "metadata": {},
   "outputs": [],
   "source": [
    "m3.drop(\"ID\", axis = 1, inplace = True)"
   ]
  },
  {
   "cell_type": "code",
   "execution_count": 40,
   "metadata": {},
   "outputs": [
    {
     "data": {
      "text/plain": [
       "Index(['city', 'date', 'match_no', 'team1', 'team2', 'venue', 'toss',\n",
       "       'decision', 'winner', 'mom'],\n",
       "      dtype='object')"
      ]
     },
     "execution_count": 40,
     "metadata": {},
     "output_type": "execute_result"
    }
   ],
   "source": [
    "m3.columns"
   ]
  },
  {
   "attachments": {},
   "cell_type": "markdown",
   "metadata": {},
   "source": [
    "*2022 Modified*"
   ]
  },
  {
   "attachments": {},
   "cell_type": "markdown",
   "metadata": {},
   "source": [
    "**COMBINING MATCHES**"
   ]
  },
  {
   "cell_type": "code",
   "execution_count": 44,
   "metadata": {},
   "outputs": [],
   "source": [
    "matches = pd.concat([m1,m2,m3], axis=0)"
   ]
  },
  {
   "cell_type": "code",
   "execution_count": 45,
   "metadata": {},
   "outputs": [
    {
     "data": {
      "text/plain": [
       "Index(['date', 'city', 'team1', 'team2', 'toss', 'decision', 'venue', 'result',\n",
       "       'winner', 'mom', 'match_no'],\n",
       "      dtype='object')"
      ]
     },
     "execution_count": 45,
     "metadata": {},
     "output_type": "execute_result"
    }
   ],
   "source": [
    "matches.columns"
   ]
  },
  {
   "cell_type": "code",
   "execution_count": 46,
   "metadata": {},
   "outputs": [],
   "source": [
    "matches.to_csv(\"./matches.csv\", index=False)"
   ]
  },
  {
   "attachments": {},
   "cell_type": "markdown",
   "metadata": {},
   "source": [
    "END OF NOTEBOOK"
   ]
  }
 ],
 "metadata": {
  "kernelspec": {
   "display_name": "Python 3",
   "language": "python",
   "name": "python3"
  },
  "language_info": {
   "codemirror_mode": {
    "name": "ipython",
    "version": 3
   },
   "file_extension": ".py",
   "mimetype": "text/x-python",
   "name": "python",
   "nbconvert_exporter": "python",
   "pygments_lexer": "ipython3",
   "version": "3.10.0"
  },
  "orig_nbformat": 4,
  "vscode": {
   "interpreter": {
    "hash": "369f2c481f4da34e4445cda3fffd2e751bd1c4d706f27375911949ba6bb62e1c"
   }
  }
 },
 "nbformat": 4,
 "nbformat_minor": 2
}
